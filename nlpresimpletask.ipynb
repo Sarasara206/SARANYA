{
  "nbformat": 4,
  "nbformat_minor": 0,
  "metadata": {
    "colab": {
      "provenance": [],
      "authorship_tag": "ABX9TyOs0l7bIJ/SvnPPerHLOyzf",
      "include_colab_link": true
    },
    "kernelspec": {
      "name": "python3",
      "display_name": "Python 3"
    },
    "language_info": {
      "name": "python"
    }
  },
  "cells": [
    {
      "cell_type": "markdown",
      "metadata": {
        "id": "view-in-github",
        "colab_type": "text"
      },
      "source": [
        "<a href=\"https://colab.research.google.com/github/Sarasara206/SARANYA/blob/main/nlpresimpletask.ipynb\" target=\"_parent\"><img src=\"https://colab.research.google.com/assets/colab-badge.svg\" alt=\"Open In Colab\"/></a>"
      ]
    },
    {
      "cell_type": "code",
      "source": [
        "import re"
      ],
      "metadata": {
        "id": "CJq7iSwN7w-l"
      },
      "execution_count": null,
      "outputs": []
    },
    {
      "cell_type": "code",
      "source": [
        "about ='Name Saranya . department artificial intelligence and data science  . from chennai . age 20 . email id saranyakumaroff06@gmail.com . favourite colour blue . phone number 9900100010 '"
      ],
      "metadata": {
        "id": "0CHFQ-1-73u4"
      },
      "execution_count": null,
      "outputs": []
    },
    {
      "cell_type": "code",
      "source": [
        "pattern = 'Name([^\\n\\.]+)'\n",
        "matches = re.findall(pattern,about)\n",
        "matches[0]"
      ],
      "metadata": {
        "colab": {
          "base_uri": "https://localhost:8080/",
          "height": 36
        },
        "id": "7rN-PT0y9O0M",
        "outputId": "ff0d1c52-c377-458f-c19c-e26e9fb0740b"
      },
      "execution_count": null,
      "outputs": [
        {
          "output_type": "execute_result",
          "data": {
            "text/plain": [
              "' Saranya '"
            ],
            "application/vnd.google.colaboratory.intrinsic+json": {
              "type": "string"
            }
          },
          "metadata": {},
          "execution_count": 14
        }
      ]
    },
    {
      "cell_type": "code",
      "source": [
        "pattern = 'department([^\\n\\.]+)'\n",
        "matches = re.findall(pattern,about)\n",
        "matches[0]"
      ],
      "metadata": {
        "colab": {
          "base_uri": "https://localhost:8080/",
          "height": 36
        },
        "id": "2E1fUuMx_VVh",
        "outputId": "20981200-e379-4e3e-fae7-5d55cfb4f98c"
      },
      "execution_count": null,
      "outputs": [
        {
          "output_type": "execute_result",
          "data": {
            "text/plain": [
              "' artificial intelligence and data science  '"
            ],
            "application/vnd.google.colaboratory.intrinsic+json": {
              "type": "string"
            }
          },
          "metadata": {},
          "execution_count": 16
        }
      ]
    },
    {
      "cell_type": "code",
      "source": [
        "pattern = 'from([^\\n\\.]+)'\n",
        "matches = re.findall(pattern,about)\n",
        "matches[0]"
      ],
      "metadata": {
        "colab": {
          "base_uri": "https://localhost:8080/",
          "height": 36
        },
        "id": "x_Us0HnxBGOd",
        "outputId": "60713d9e-9460-4554-a85f-5652e3d6a2ce"
      },
      "execution_count": null,
      "outputs": [
        {
          "output_type": "execute_result",
          "data": {
            "text/plain": [
              "' chennai '"
            ],
            "application/vnd.google.colaboratory.intrinsic+json": {
              "type": "string"
            }
          },
          "metadata": {},
          "execution_count": 18
        }
      ]
    },
    {
      "cell_type": "code",
      "source": [
        "pattern = 'age (\\d\\d)'\n",
        "matches = re.findall(pattern,about)\n",
        "matches[0]"
      ],
      "metadata": {
        "colab": {
          "base_uri": "https://localhost:8080/",
          "height": 36
        },
        "id": "-Uc21j_xBZ6v",
        "outputId": "7bf04619-8505-4646-c4a6-8231e4ed5dd9"
      },
      "execution_count": null,
      "outputs": [
        {
          "output_type": "execute_result",
          "data": {
            "text/plain": [
              "'20'"
            ],
            "application/vnd.google.colaboratory.intrinsic+json": {
              "type": "string"
            }
          },
          "metadata": {},
          "execution_count": 19
        }
      ]
    },
    {
      "cell_type": "code",
      "source": [
        "pattern = '[a-z0-9A-Z]+@[a-z0-9A-Z]+.[a-zA-Z]+'\n",
        "matches = re.findall(pattern,about)\n",
        "matches[0]"
      ],
      "metadata": {
        "colab": {
          "base_uri": "https://localhost:8080/",
          "height": 36
        },
        "id": "5y9Kb1aMDJnT",
        "outputId": "2f43b393-1939-4ada-b2a9-fbe862cbffc8"
      },
      "execution_count": null,
      "outputs": [
        {
          "output_type": "execute_result",
          "data": {
            "text/plain": [
              "'saranyakumaroff06@gmail.com'"
            ],
            "application/vnd.google.colaboratory.intrinsic+json": {
              "type": "string"
            }
          },
          "metadata": {},
          "execution_count": 20
        }
      ]
    },
    {
      "cell_type": "code",
      "source": [
        "pattern = 'colour([^\\n\\.]+)'\n",
        "matches = re.findall(pattern,about)\n",
        "matches[0].strip()"
      ],
      "metadata": {
        "colab": {
          "base_uri": "https://localhost:8080/",
          "height": 36
        },
        "id": "rGnpbTE0D3Wf",
        "outputId": "ca6e2dcd-2cd5-4662-b992-239964bdf935"
      },
      "execution_count": null,
      "outputs": [
        {
          "output_type": "execute_result",
          "data": {
            "text/plain": [
              "'blue'"
            ],
            "application/vnd.google.colaboratory.intrinsic+json": {
              "type": "string"
            }
          },
          "metadata": {},
          "execution_count": 21
        }
      ]
    },
    {
      "cell_type": "code",
      "source": [
        "pattern = '\\d{10}'\n",
        "matches = re.findall(pattern,about)\n",
        "matches[0]"
      ],
      "metadata": {
        "colab": {
          "base_uri": "https://localhost:8080/",
          "height": 36
        },
        "id": "d1nTD1lsESMv",
        "outputId": "99bfe9f5-e16b-44d3-8c41-8cd30717f009"
      },
      "execution_count": null,
      "outputs": [
        {
          "output_type": "execute_result",
          "data": {
            "text/plain": [
              "'9900100010'"
            ],
            "application/vnd.google.colaboratory.intrinsic+json": {
              "type": "string"
            }
          },
          "metadata": {},
          "execution_count": 22
        }
      ]
    },
    {
      "cell_type": "code",
      "source": [
        "def get_pattern_match(pattern,about):\n",
        "  matches = re.findall(pattern,about)\n",
        "  if matches:\n",
        "    return matches[0]"
      ],
      "metadata": {
        "id": "ikIIVawIExbr"
      },
      "execution_count": null,
      "outputs": []
    },
    {
      "cell_type": "code",
      "source": [
        "get_pattern_match('\\d{10}',about)"
      ],
      "metadata": {
        "colab": {
          "base_uri": "https://localhost:8080/",
          "height": 36
        },
        "id": "QGHIePc2FRoI",
        "outputId": "a4c0be6e-806c-4a6f-9778-12f7418c2358"
      },
      "execution_count": null,
      "outputs": [
        {
          "output_type": "execute_result",
          "data": {
            "text/plain": [
              "'9900100010'"
            ],
            "application/vnd.google.colaboratory.intrinsic+json": {
              "type": "string"
            }
          },
          "metadata": {},
          "execution_count": 24
        }
      ]
    },
    {
      "cell_type": "code",
      "source": [
        "def get_personal_data(about):\n",
        "  full_name= get_pattern_match('Name([^\\n\\.]+)',about)\n",
        "  department= get_pattern_match('department([^\\n\\.]+)',about)\n",
        "  location= get_pattern_match('from([^\\n\\.]+)',about)\n",
        "  age= get_pattern_match('age (\\d\\d)',about)\n",
        "  gmail_id= get_pattern_match('[a-z0-9A-Z]+@[a-z0-9A-Z]+.[a-zA-Z]+',about)\n",
        "  favourite_colour= get_pattern_match('colour([^\\n\\.]+)',about)\n",
        "  phone_number= get_pattern_match('\\d{10}',about)\n",
        "  return{\n",
        "      'name':full_name.strip(),\n",
        "      'department':department.strip(),\n",
        "      'location':location.strip(),\n",
        "      'age':int(age),\n",
        "      'gmail_id':gmail_id.strip(),\n",
        "      'favourite_colour':favourite_colour.strip(),\n",
        "      'phone_number':int(phone_number)\n",
        "  }"
      ],
      "metadata": {
        "id": "6U5C7VmwFmIs"
      },
      "execution_count": null,
      "outputs": []
    },
    {
      "cell_type": "code",
      "source": [
        "get_personal_data(about)"
      ],
      "metadata": {
        "colab": {
          "base_uri": "https://localhost:8080/"
        },
        "id": "sQf7PORTJQLZ",
        "outputId": "45023849-fc40-4ea9-eade-83c3b0bf3a8b"
      },
      "execution_count": null,
      "outputs": [
        {
          "output_type": "execute_result",
          "data": {
            "text/plain": [
              "{'name': 'Saranya',\n",
              " 'department': 'artificial intelligence and data science',\n",
              " 'location': 'chennai',\n",
              " 'age': 20,\n",
              " 'gmail_id': 'saranyakumaroff06@gmail.com',\n",
              " 'favourite_colour': 'blue',\n",
              " 'phone_number': 9900100010}"
            ]
          },
          "metadata": {},
          "execution_count": 28
        }
      ]
    }
  ]
}